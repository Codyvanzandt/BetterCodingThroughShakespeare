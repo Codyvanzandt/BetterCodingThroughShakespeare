{
 "cells": [
  {
   "cell_type": "markdown",
   "metadata": {},
   "source": [
    "# **Better Coding Through Shakespeare**\n",
    "### **Adapted from Robert C. Martin's *Clean Code* and the works of William Shakespeare**"
   ]
  },
  {
   "cell_type": "markdown",
   "metadata": {},
   "source": [
    "When you learned to write essays, your instructors didn't just focus on syntax. They recognized that you also needed the answers to some pretty important organizational questions:\n",
    "\n",
    "- How should I format and organize my essays?\n",
    "- How big should my essays, paragraphs, and sentences be?\n",
    "- How can I write well-constructed setences, paragraphs, and essays?\n",
    "- How can I cleanly connect my sentences and paragraphs together?\n",
    "\n",
    "Your answers likely have changed since your writing instructors came down from Mount Sinai with the five-paragraph essay. But that original framework still provided you with a solid foundation on which to hone your writing chops.\n",
    "\n",
    "In sharp constrast, I'd wager that when you learned to write programs, no one spent much time answering these questions:\n",
    "\n",
    "- How should I format and organize my code files?\n",
    "- How big should my files, classes, and functions be?\n",
    "- How do I write well-constructed functions, classes, and files?\n",
    "- How can I cleanly connect my functions and classes together?\n",
    "\n",
    "I think you can see where I'm going with this. \n",
    "\n",
    "Good writing - be it an essay or a program - requires good organization, and solid organizational principles actually don't change all that much from prose to code. Accordingly, this seris borrows from *both* a famous software engineer (Robert C. Martin) and a famous writer (William Shakespeare) in order to help you write better code. You're in good hands: Martin is a a thought-leader in software engineering, and Shakespeare - being \"not of an age but for all time\" - naturally has much programming advice to share.\n",
    "\n",
    "And so without further ado...\n",
    "\n",
    "##### ***Better Coding Through Shakespeare***"
   ]
  },
  {
   "cell_type": "markdown",
   "metadata": {},
   "source": [
    "## **Naming Things. Or, Romeo Is a Dreadful Programmer**"
   ]
  },
  {
   "cell_type": "markdown",
   "metadata": {},
   "source": [
    "In *Romeo and Juliet*, Romeo famoulsy opines..."
   ]
  },
  {
   "cell_type": "markdown",
   "metadata": {},
   "source": [
    "> *What’s in a name? That which we call a rose*\n",
    ">\n",
    "> *By any other name would smell as sweet.*$^{1}$"
   ]
  },
  {
   "cell_type": "markdown",
   "metadata": {},
   "source": [
    "Now that might be a fine philosophy for Montagues and Capulets, but it's a *dreadful* way to approach programming.\n",
    "\n",
    "**Names matter**. \n",
    "\n",
    "Well named variables, functions, and classes can significantly improve the readability - and therefore maintainability - of a program.\n",
    "\n",
    "For example... check out this function:"
   ]
  },
  {
   "cell_type": "code",
   "execution_count": 62,
   "metadata": {},
   "outputs": [],
   "source": [
    "def get_result(l):\n",
    "    result = list()\n",
    "    for i, j in l:\n",
    "        if j > 40:\n",
    "            result.append(i)\n",
    "    return result"
   ]
  },
  {
   "cell_type": "markdown",
   "metadata": {},
   "source": [
    "To quote Robert Martin,\n",
    "> The problem isn’t the simplicity of the code but the *implicity* of the code. $^{2}$"
   ]
  },
  {
   "cell_type": "markdown",
   "metadata": {},
   "source": [
    "We know *what* this code does, but we have no idea *why* it's doing it. \n",
    "\n",
    "Let's do a better job of naming things:"
   ]
  },
  {
   "cell_type": "code",
   "execution_count": 28,
   "metadata": {},
   "outputs": [],
   "source": [
    "OVERTIME_CUTOFF = 40\n",
    "\n",
    "def get_employees_with_overtime(employees_and_hours):\n",
    "    employees_with_overtime = list()\n",
    "    for employee_name, hours_worked in employees_and_hours:\n",
    "        if hours_worked > OVERTIME_CUTOFF:\n",
    "            employees_with_overtime.append(employee_name)\n",
    "    return employees_with_overtime"
   ]
  },
  {
   "cell_type": "markdown",
   "metadata": {},
   "source": [
    "Ah, that's better! We know *exactly* what this function and all of its variables are for.\n",
    "\n",
    "Now that you've seen how powerful good names can be, you've got to be wondering, much like Romeo, \"What's in a *good* name?\" \n",
    "\n",
    "Fear not! Here are a few tips to help you whip your names into top shape."
   ]
  },
  {
   "cell_type": "markdown",
   "metadata": {},
   "source": [
    "#### See Names as Opportunities to Add Value"
   ]
  },
  {
   "cell_type": "code",
   "execution_count": 64,
   "metadata": {},
   "outputs": [],
   "source": [
    "s = 50000 # Dreadful\n",
    "salary = 50000 # Better\n",
    "base_salary= 50000 # Best. Now we have a much better idea of what this variable is."
   ]
  },
  {
   "cell_type": "markdown",
   "metadata": {},
   "source": [
    "#### i,j,k (and Friends) Are Only For Indices"
   ]
  },
  {
   "cell_type": "code",
   "execution_count": 51,
   "metadata": {},
   "outputs": [],
   "source": [
    "office_locations = [\"Houston\", \"Austin\", \"Dallas\"]\n",
    "\n",
    "for i in office_locations: # BAD!\n",
    "    pass \n",
    "\n",
    "for i, location in enumerate(office_locations): # GOOD! But only if you NEED the indices.\n",
    "    pass\n",
    "\n",
    "for location in office_locations: # GOOD! But only if you DON'T need the indices.\n",
    "    pass"
   ]
  },
  {
   "cell_type": "markdown",
   "metadata": {},
   "source": [
    "#### Don't Add Types If They Don't Add Information"
   ]
  },
  {
   "cell_type": "code",
   "execution_count": 36,
   "metadata": {},
   "outputs": [],
   "source": [
    "employee_name_string = \"Robin\" # BAD! We already figured that the name was a string."
   ]
  },
  {
   "cell_type": "code",
   "execution_count": 40,
   "metadata": {},
   "outputs": [],
   "source": [
    "employee_name_list = [\"Robin\", \"Sam\", \"Alex\"] # OKAY! As long as this is always going to be a list..."
   ]
  },
  {
   "cell_type": "code",
   "execution_count": 63,
   "metadata": {},
   "outputs": [],
   "source": [
    "employee_names = [\"Robin\", \"Sam\", \"Alex\"] # Likely the best option here."
   ]
  },
  {
   "cell_type": "markdown",
   "metadata": {},
   "source": [
    "#### Make Sure You Can Pronounce It"
   ]
  },
  {
   "cell_type": "code",
   "execution_count": 53,
   "metadata": {},
   "outputs": [],
   "source": [
    "cmpy_strt_adr = \"100 Foo Street\" # BAD! It's \"company street address.\" No one wants to pronounce it as \"cumpy stert adder\""
   ]
  },
  {
   "cell_type": "markdown",
   "metadata": {},
   "source": [
    "#### Variables and Classes are Nouns. Functions and Methods are Verbs."
   ]
  },
  {
   "cell_type": "code",
   "execution_count": 42,
   "metadata": {},
   "outputs": [],
   "source": [
    "class GetEmployeeInfo(object): # BAD! Classes model things. And the only things that are verbs... are verbs.\n",
    "    \n",
    "    def years_of_service_calculator(self): # BAD! Methods DO things, don't try and make your nouns do things.\n",
    "        pass\n",
    "    \n",
    "class Employee(object): # GOOD!\n",
    "    \n",
    "    def get_years_of_service(self): # GOOD!\n",
    "        pass\n",
    "    "
   ]
  },
  {
   "cell_type": "markdown",
   "metadata": {},
   "source": [
    "#### Pick Your Conventions and Stick with Them"
   ]
  },
  {
   "cell_type": "code",
   "execution_count": 43,
   "metadata": {},
   "outputs": [],
   "source": [
    "class Employee(object):\n",
    "    \n",
    "    def get_name(self): # A solid naming choice.\n",
    "        pass\n",
    "    \n",
    "    def fetch_title(self): # fetch?\n",
    "        pass\n",
    "    \n",
    "    def return_salary(self): # return? \n",
    "        pass\n",
    "    \n",
    "    def acquire_manager(self): # acquire? No one will remember which \"get\" synonym goes where.\n",
    "        pass"
   ]
  },
  {
   "cell_type": "markdown",
   "metadata": {},
   "source": [
    "## **Functions. Or, Hermia Would Make a Good Function**"
   ]
  },
  {
   "cell_type": "markdown",
   "metadata": {},
   "source": [
    "In *A Midsummer Night's Dream*, Helena says of Hermia..."
   ]
  },
  {
   "cell_type": "markdown",
   "metadata": {},
   "source": [
    "> And though she be but little, she is fierce.$^{3}$"
   ]
  },
  {
   "cell_type": "markdown",
   "metadata": {},
   "source": [
    "Just the qualities we want in a function: little and fierce.\n",
    "\n",
    "Programs made up of small, powerful functions are easier to understand, easier to test, and easier to maintain.\n",
    "\n",
    "Check out this big ol' function. No need to get too involved with it - it is, after all, fake, but glance through it and get the gist."
   ]
  },
  {
   "cell_type": "code",
   "execution_count": 76,
   "metadata": {},
   "outputs": [],
   "source": [
    "def promote_employee(employee, new_title):\n",
    "    \n",
    "    # give the employee his new title, adding 'Senior' or 'Junior' if necessary\n",
    "    if employee.years_of_service > 10:\n",
    "        fully_udated_title = \"Senior \" + new_title\n",
    "    elif employee.years_of_service < 2:\n",
    "        fully_udated_title = \"Junior \" + new_title\n",
    "    employee.title = fully_udated_title\n",
    "    \n",
    "    # compute the employee's new salary\n",
    "    new_salary_bracket_min, new_salary_bracket_max = human_resources.get_salary_bracket(new_title)\n",
    "    if employee.salary <= new_salary_bracket_min:\n",
    "        new_salary = new_salary_bracket_min\n",
    "    elif employee.salary >= new_salary_bracket_max:\n",
    "        new_salary = new_salary_bracket_max\n",
    "    else:\n",
    "        new_salary = ( new_salary_bracket_min + new_salary_bracket_max ) / 2.0\n",
    "    employee.salary = new_salary\n",
    "\n",
    "    # compute the employee's new 401k matching\n",
    "    if human_resources.is_role_401k_eligible(new_title):\n",
    "        new_max_401k_matching = human_resources.get_max_401k_matching(new_title)\n",
    "        min_401k_matching = human_resources.get_company_minimum_401k_matching()\n",
    "        if employee.matching_401k == 0:\n",
    "             new_matching_401k = min_401k_matching\n",
    "        else:\n",
    "            new_matching_401k = min(new_max_401k_matching, employee.matching401k + 0.01)\n",
    "    else:\n",
    "        new_matching401k = 0\n",
    "    employee.matching_401k = new_matching_401k\n",
    "\n",
    "    # compute the new stock compensation\n",
    "    stock_level_1, stock_level_2, stock_level_3 = human_resources.get_stock_levels(new_title)\n",
    "    if employee.tenure > 20:\n",
    "        new_stock_total = stock_level_3\n",
    "    elif employee.tenure > 10:\n",
    "        new_stock_total = stock_level_2\n",
    "    else:\n",
    "        new_stock_total = stock_level_1\n",
    "    employee.stock = new_stock_level\n",
    "\n",
    "    return employee"
   ]
  },
  {
   "cell_type": "markdown",
   "metadata": {},
   "source": [
    "That's one *long* function. It isn't terribly easy to read, the logic of each individual part obfuscates the function's larger goal, and there are control-flow statements everywhere. The comments help *a little*, but they shouldn't be necessary. \n",
    "\n",
    "In short, this function isn't short, and it isn't terribly clear.\n",
    "\n",
    "Now check out this nice little function..."
   ]
  },
  {
   "cell_type": "code",
   "execution_count": 75,
   "metadata": {},
   "outputs": [],
   "source": [
    "def promote_employee(employee, new_title):\n",
    "    update_title(employee, new_title)\n",
    "    update_salary(employee, new_title)\n",
    "    update_401k_matching(employee, new_title)\n",
    "    update_stock(employee, new_title)\n",
    "    return employee"
   ]
  },
  {
   "cell_type": "markdown",
   "metadata": {},
   "source": [
    "Now *that* is readable! \n",
    "\n",
    "There's not a single if-statement, and every line of code communicates its purpose. \n",
    "\n",
    "True story: I sent this snippet to my mother, a retired paralegal with zero coding experience, and asked her to tell me what she thinks is going on. She quickly sent back:\n",
    "\n",
    "> Well, you're trying to promote an employee. So you give him his new title, salary, 401k matching, and stock, right?**$^{4}$**\n",
    "\n",
    "The code is just that clear.\n",
    "\n",
    "To be fair, I refactored away a lot of code. The details of, for example, `update_title` aren't here. But it isn't too hard to imagine what happened. Each logic block from our gigantic function ended up in its *own* little function. I pieced the little functions together, and *viola!* The new function is far from perfect, but it is a signifncant improvement.\n",
    "\n",
    "Now that you're jiving with the idea that functions should be small (at least, I hope you are), let's get down to business: what does \"small\" mean, exactly?"
   ]
  },
  {
   "cell_type": "markdown",
   "metadata": {},
   "source": [
    "### How Small is \"Small?\" ###\n",
    "\n",
    "To quote Robert C. Martin on it,\n",
    "\n",
    "> The first rule of functions is that they should be small. The second rule of functions is that\n",
    "*they should be smaller than that*. **$^{5}$**\n",
    "\n",
    "Very clever. But how small is \"smaller than that?\" \n",
    "\n",
    "Honestly, there isn't a universally-accepted measure of \"small.\"  However, I'd wager that almost every student in Martin's tradition (Martians?) would agree that 20 lines is usually too big. \n",
    "\n",
    "But I imagine that you want some hard-and-fast guidelines. Well, here you go!\n",
    "\n",
    "These statistics come from roughly 15000 lines of Ruby code written by Martin Fowler. \n",
    "\n",
    " - 59% of his functions are less than three lines\n",
    " - 75% of his functins are less than five lines\n",
    " - 93% of his functions are less than ten lines **$^{6}$**\n",
    "\n",
    "If you're looking for a software engineer to emulate, Martin Fowler is as good a choice as anyone. He's a recognized leader in the field of software engineering and one of the original authors of the [*Manifesto for Agile Software Development*](http://agilemanifesto.org/).\n",
    "\n",
    "The next big question, of course, is how do write functions that are *that tiny?*\n"
   ]
  },
  {
   "cell_type": "markdown",
   "metadata": {},
   "source": [
    "### Functions Should Do One Thing "
   ]
  },
  {
   "cell_type": "markdown",
   "metadata": {},
   "source": [
    "To quote Robert C. Martin again,\n",
    "\n",
    "> Functions should do one thing. They should do it well. They should do it only. **$^{7}$**\n",
    "\n",
    "Odds are good that if you follow those three rules, you're functions will naturally run just a few lines in length. The trick is in understanding what \"one thing\" means.\n",
    "\n",
    "How do you know when you function is doing one thing? Try to extract another meaningful function out of it. If you can, then the original function was not doing one thing.\n",
    "\n",
    "It's a cheeky herustic, I know, but it works well.\n",
    "\n",
    "To illustrate, let's take another look at our promotion function."
   ]
  },
  {
   "cell_type": "code",
   "execution_count": 78,
   "metadata": {},
   "outputs": [],
   "source": [
    "def promote_employee(employee, new_title):\n",
    "    update_title(employee, new_title)\n",
    "    update_salary(employee, new_title)\n",
    "    update_401k_matching(employee, new_title)\n",
    "    update_stock(employee, new_title)\n",
    "    return employeee"
   ]
  },
  {
   "cell_type": "markdown",
   "metadata": {},
   "source": [
    "Can we extract out another meaningful function? I think so. \n",
    "\n",
    "I think that salary, 401k, and stock are related updates that can be extracted out into an `update_compensation` function. \n",
    "\n",
    "Take a look:"
   ]
  },
  {
   "cell_type": "code",
   "execution_count": 77,
   "metadata": {},
   "outputs": [],
   "source": [
    "def promote_employee(employee, new_title):\n",
    "    update_title(employee, new_title)\n",
    "    updated_compensation(employee, new_title)\n",
    "    return employee"
   ]
  },
  {
   "cell_type": "markdown",
   "metadata": {},
   "source": [
    "Now *that* is a clean function!\n",
    "\n",
    "Reading it, you immediately understand what happens when you promote an employee:\n",
    "- You update their title\n",
    "- And you update their compensation\n",
    "\n",
    "If you're curious about what *exactly* goes into updating an employee's title or compensation, you're welcome to go look. But you're not *forced* to slog through the gory details if you don't want to. The *intention* of the function is separate from its *implementation* and readers can choose to interact with your code a their preferred level of abstraction. The code is modular, testable, and readable - all because your functions are small, and they do just one thing. "
   ]
  },
  {
   "cell_type": "markdown",
   "metadata": {},
   "source": [
    "## **\"Come hither, come hither. How did this argument begin?\" $^{8}$ Or, Arguments Confuse Don Adriano (And Everyone Else)** "
   ]
  },
  {
   "cell_type": "markdown",
   "metadata": {},
   "source": [
    "Arguments complicate your code. There's no way around it.\n",
    "\n",
    "Arguments make testing, understanding, and debugging code more difficult, and that difficulty grows *exponentially* in the number of arguments.\n",
    "\n",
    "Naturally, our friend Robert C. Martin agrees:\n",
    "\n",
    "> The  ideal  number  of  arguments  for  a  function  is\n",
    "zero (niladic). Next comes one (monadic), followed\n",
    "closely  by  two  (dyadic).  Three  arguments  (triadic)\n",
    "should be avoided where possible. More than three\n",
    "(polyadic)  requires  very  special  justification — and\n",
    "then shouldn’t be used anyway. **$^{9}$**\n",
    "\n",
    "As far as I'm concerned, that's the best answer to \"How many arguments should my function take?\"\n",
    "\n",
    "The big question, then, is \"How do I write functions like that?\"\n",
    "\n",
    "Fear not! Here are a few tips that'll help you create smart, safe, understandable arguments."
   ]
  },
  {
   "cell_type": "markdown",
   "metadata": {},
   "source": [
    "### Make Your Arguments Classy"
   ]
  },
  {
   "cell_type": "markdown",
   "metadata": {},
   "source": [
    "You might be writing a function like this..."
   ]
  },
  {
   "cell_type": "code",
   "execution_count": 113,
   "metadata": {},
   "outputs": [],
   "source": [
    "def manipulate_3D_point(x, y, z):\n",
    "    # Do something nifty with a point sitting in three dimensions.\n",
    "    pass"
   ]
  },
  {
   "cell_type": "markdown",
   "metadata": {},
   "source": [
    "Any function that needs to know about a point sitting in 3D space will need *at least* three arguments: x, y, and z. That's not a stellar start to writing functions with only a few arguments.\n",
    "\n",
    "But I'd argue that, since `x`, `y`, and `z` are all necessary to make a 3D point, then they should be bound up in a 3D point class!"
   ]
  },
  {
   "cell_type": "code",
   "execution_count": 81,
   "metadata": {},
   "outputs": [],
   "source": [
    "class Point_3D(object):\n",
    "    def __init__(self, x, y, z):\n",
    "        self.x = x\n",
    "        self.y = y\n",
    "        self.z = z\n",
    "        \n",
    "def manipulate_3D_point( a_3D_point ):\n",
    "    # Do something nifty with something a point sitting in three dimensions.\n",
    "    pass"
   ]
  },
  {
   "cell_type": "markdown",
   "metadata": {},
   "source": [
    "*Much* better! You're function has all the information it needs, you've minimized your argument list, and I'd even argue that you added significant clarity to your code by adding a simple little class. (Note: for Pythonic fun with classes that simply bind data together, check out Python's [namedtuple](https://docs.python.org/3/library/collections.html#collections.namedtuple).\n",
    "\n",
    "Granted, this example is pretty obvious. But the point remains (pun intended): when your argument list starts to grow, some of your arguments are likely related enough to make a coherent class."
   ]
  },
  {
   "cell_type": "markdown",
   "metadata": {},
   "source": [
    "### Make Sure Arguments Don't Come OUT of Functions"
   ]
  },
  {
   "cell_type": "markdown",
   "metadata": {},
   "source": [
    "Arguments are confusing enough. But arguments that come *out* of functions are even worse.\n",
    "\n",
    "At this point you should be a little confused. Don't arguments go *into* functions by definition? Why yes. They do. But if you're not careful, they can surprise you (and everyone else) by coming back *out* of your functions. Let me illustrate.\n",
    "\n",
    "Imagine that you're reading some (icky) code, and you stumble across this little gem:\n",
    "\n",
    "```python\n",
    "text = extend_text( text, extend_value )\n",
    "```\n",
    "\n",
    "This line of code looks like it probably...\n",
    "- Takes a text and another value as arguments\n",
    "- Extends the text using `extend_value`\n",
    "- ...and then returns text again.\n",
    "\n",
    "So text goes *in*, and then comes back *out*. Yuck.\n",
    "\n",
    "This works significantly better as\n",
    "```python\n",
    "text.extend( value )\n",
    "```\n",
    "Ah, much better! `value` goes *in*, `text` comes *out*, and no one is surprised."
   ]
  },
  {
   "cell_type": "markdown",
   "metadata": {},
   "source": [
    "### Flags are for Countries, Not for Programmers"
   ]
  },
  {
   "cell_type": "markdown",
   "metadata": {},
   "source": [
    "Programmers *love* passing flags to functions. \n",
    "\n",
    "Like so..."
   ]
  },
  {
   "cell_type": "code",
   "execution_count": 87,
   "metadata": {},
   "outputs": [],
   "source": [
    "class SomeCrazyData(object):\n",
    "    def output_data(self, as_CSV):\n",
    "        if as_CSV:\n",
    "            # Output the data as CSV\n",
    "            return some_CSV\n",
    "        else:\n",
    "            # Output the data as JSON\n",
    "            return some_JSON"
   ]
  },
  {
   "cell_type": "markdown",
   "metadata": {},
   "source": [
    "Look how simple! Now you can get `output_data` to return the data in CSV *or* JSON format. All you have to do is pass a boolean flag and WHAM! You're done!\n",
    "\n",
    "But this function makes me feel really uneasy.\n",
    "\n",
    "- `as_CSV` is a boolean. If its value is `True`, then it returns a CSV. If its value is the *opposite* of `True`, then it returns... Uh... Well I guess it returns the opposite of a CSV. Whatever that is. \n",
    "- Functions do one thing! But... This function does two things. One for the `True` case and another for the `False` case. That's unfortunate.\n",
    "- The function's name and arguments don't tell me what I can use the function for! To figure that out, I have to rely on good documentation (Ahahahahaha! Yeah...) or look around inside the function until I figure it out.\n",
    "\n",
    "To recap, we have a function with an ambiguous argument that does two things without making it clear from its definition what those two things are. \n",
    "\n",
    "Yuck.\n",
    "\n",
    "It's a much better idea to do something like this:"
   ]
  },
  {
   "cell_type": "code",
   "execution_count": 90,
   "metadata": {},
   "outputs": [],
   "source": [
    "class SomeCrazyData(object):\n",
    "    def output_data_as_CSV(self):\n",
    "        # Output the data as CSV\n",
    "        return some_CSV\n",
    "    def output_data_as_JSON(self):\n",
    "        # Output the data as JSON\n",
    "        return some_JSON"
   ]
  },
  {
   "cell_type": "markdown",
   "metadata": {},
   "source": [
    "Do yourself a favor: don't use flags unless you *absolutely* have to."
   ]
  },
  {
   "cell_type": "markdown",
   "metadata": {},
   "source": [
    "### Leave \"None\" Alone!"
   ]
  },
  {
   "cell_type": "markdown",
   "metadata": {},
   "source": [
    "None is so tempting. But it's usually a sub-optimal idea.\n",
    "\n",
    "It is a value that represents the absence of any value. And that alone should make you feel weird.\n",
    "\n",
    "You cannot iterate through None. You cannot cannot use it as a function. It has no attributes, and it has no methods. All None will ever do for you is raise the exception \"AttributeError: 'NoneType' object has no attribute...\"\n",
    "\n",
    "If you return it from a function, it will force every caller of your function to perform None-checks. If they forget a check, they risk an AttributeError. \n",
    "\n",
    "If you pass it into a function, (especially as a default argument), you'll obfuscate your logic with None-checks and doom your helper functions to the same fate.\n",
    "\n",
    "And yet, None still gets used because it is convenient. It has no features: all you can do with it is ask \"Are you None?\" Given its simple featurelessness, folks use None to store all kinds of random information: Did I ever set this variable? Did I call this function? Did I succeed in some task? All sorts of things. \n",
    "\n",
    "They're all a mistake. There is *always* a better way to signal your intention than with a None.\n",
    "\n",
    "You could...\n",
    "- Raise an exception (potenially in a try-except block) to signal that something invalid happened\n",
    "- Ditch the default argument. If an argument doesn't have a sensible default, then why are you trying to force one on it?\n",
    "- Or use a sensible, non-mutable default: a custom \"empty\" class or an enum.\n",
    "- Re-architect your functions and logic so that they don't need None. Your code will almost certainly be more robust as a result.\n",
    "\n",
    "Just try not to use None.\n",
    "\n",
    "If you're still not convinced, consider for a moment that Turing award-winning computer scientist Tony Hoare [believes that None (aka: the null refernece) is a mistake](https://www.infoq.com/presentations/Null-References-The-Billion-Dollar-Mistake-Tony-Hoare). And he invented it."
   ]
  },
  {
   "cell_type": "markdown",
   "metadata": {},
   "source": [
    "## **\"Forgive the comment that my passion made / Upon thy feature\" $^{10}$ Or, King John Regrets Commenting and You Should Too**"
   ]
  },
  {
   "cell_type": "markdown",
   "metadata": {},
   "source": [
    "Comments are weird. \n",
    "\n",
    "Countless programmers extol the virtues \"well-commented\" code, but no two people ever seem to have the same idea of what \"well-commented\" means. Now why is that? As you might have come to expect, we're going to turn to Robert C. Martin for the answer:\n",
    "\n",
    ">The  proper  use  of  comments  is  to  compensate  for  our  failure  to  express  ourself  in\n",
    "code. Note that I used the word \n",
    "failure. I meant it. Comments are always failures. **$^{11}$**\n",
    "\n",
    "It is worth repeating: comments are always failures. We fail to express ourselves clearly in code, and so we leave a comment behind to mark that failure. Over time, that comment slowly forgets its purpose as the surrounding system evolves. And then one day, the comment looks up and realizes that it no longer means anything to anyone. It has no purpose. All it can do is wait to be deleted or replaced.\n",
    "\n",
    "Almost brings a tear to your eye, doesn't it?\n",
    "\n",
    "If only our programming language was more expressive -- if only we could, as Nick Carroway narrates at the end of *The Great Gatsby* \"run faster, stretch out our arms farther...\", then we might never need to comment again.\n",
    "\n",
    "But we're not there yet.\n",
    "\n",
    "There are still a few kinds of comments that we need."
   ]
  },
  {
   "cell_type": "markdown",
   "metadata": {},
   "source": [
    "### Dire Warnings"
   ]
  },
  {
   "cell_type": "code",
   "execution_count": 103,
   "metadata": {},
   "outputs": [],
   "source": [
    "# DONT CHANGE THIS NUMBER. If it isn't EXACTLY equal to 4, then - believe it or not - the San Andreas Fault will violently hemorrhage\n",
    "# and cause San Francisco will topple helplessly into the Pacific.\n",
    "b = 4"
   ]
  },
  {
   "cell_type": "markdown",
   "metadata": {},
   "source": [
    "Occasionally, things like this happen. Systems aren't always as robust as we'd like them, and programmers who've erred leave warnings behind. They're often valuable, and not to be dismissed without at least a little investigation."
   ]
  },
  {
   "cell_type": "markdown",
   "metadata": {},
   "source": [
    "### Explaining Interfaces You Don't Own"
   ]
  },
  {
   "cell_type": "code",
   "execution_count": null,
   "metadata": {},
   "outputs": [],
   "source": [
    "# This only works if you pass in the username in Pig Latin...\n",
    "fetch_BookFace_messages(username=\"odycay anzandtvay\")"
   ]
  },
  {
   "cell_type": "markdown",
   "metadata": {},
   "source": [
    "We hope that all public APIs are well-documented and entirely unastonishing. But that's just not the case. Ocassioanlly, Alice-in-Wonderland-esque functions climb out of the rabbit hole and make their way into our systems. We can sputter and swear and jump up and down all we'd like, but there's nothing we can do to change the wonky code. All we can do is leave a comment and hope for the best.\n",
    "\n",
    "Admittedly, the wonky code might one day changeand our comment will become unnecessary. But 'til then, a few words might save our colleagues loads of time and energy."
   ]
  },
  {
   "cell_type": "markdown",
   "metadata": {},
   "source": [
    "### Explaining the Truly Esoteric"
   ]
  },
  {
   "cell_type": "markdown",
   "metadata": {},
   "source": [
    "Occasionally, you'll find yourself coding in the footsteps of someone with a skill set very different from your own. That previous coder might be, for example, a math PhD who provided a nice equation to help you understand their code."
   ]
  },
  {
   "cell_type": "markdown",
   "metadata": {},
   "source": [
    "\\begin{align*}\n",
    " &a=12+7 \\int_0^2\n",
    "  \\left(\n",
    "    -\\frac{1}{4}\\left(e^{-4t_1}+e^{4t_1-8}\\right)\n",
    "  \\right)\\\n",
    "\\end{align*}\n",
    "\n"
   ]
  },
  {
   "cell_type": "markdown",
   "metadata": {},
   "source": [
    "Alas, your degree isn't in math.\n",
    "\n",
    "*However!*\n",
    "\n",
    "They also provided a nice, English description of this equation's purpose and implementation in a comment:"
   ]
  },
  {
   "cell_type": "code",
   "execution_count": 100,
   "metadata": {},
   "outputs": [],
   "source": [
    "# Here's exactly what the equation does and why..."
   ]
  },
  {
   "cell_type": "markdown",
   "metadata": {},
   "source": [
    "Now you can impress your fellow developers at the next meeting with your lucid descriptions of complex computations. \n",
    "\n",
    "Hurray!"
   ]
  },
  {
   "cell_type": "markdown",
   "metadata": {},
   "source": [
    "### Licenses, Test Files, Permissions, Primary Maintainers, and Other Necessities"
   ]
  },
  {
   "cell_type": "code",
   "execution_count": 98,
   "metadata": {},
   "outputs": [],
   "source": [
    "\"\"\"\n",
    "Primary: Cody VanZandt\n",
    "Permission Group: Blah Blah and Foo\n",
    "Tests: /tests/ThingDoer.py\n",
    "License: Creative Commons 4.0 Attribute\n",
    "\"\"\"\n",
    "\n",
    "def a_very_important_function(dog):\n",
    "    return dog.bark()"
   ]
  },
  {
   "cell_type": "markdown",
   "metadata": {},
   "source": [
    "This stuff is pretty important in systems with lots of developers. Some folks might even scrape and mine a large collection of it for its secrets. \n",
    "\n",
    "Not *all* such file statistics are useful (things like version number are generally best left to version control software), but a lot of them are. "
   ]
  },
  {
   "cell_type": "markdown",
   "metadata": {},
   "source": [
    "## **\"You are too blunt. Go to it orderly.\"$^{12}$ Or, Petruchio Needs Better Formatting**"
   ]
  },
  {
   "cell_type": "markdown",
   "metadata": {},
   "source": [
    "Poor formatting can hamstring your readers just as easily as poor design.\n",
    "\n",
    "If no one knows where to look for anything, the task of understanding what's actually happening grows more difficult.\n",
    "\n",
    "You (and everyone who reads your code) will be grateful if you spend a litte time formatting your code to be readable and unsurprising. "
   ]
  },
  {
   "cell_type": "markdown",
   "metadata": {},
   "source": [
    "### How Long Should a File Be? "
   ]
  },
  {
   "cell_type": "markdown",
   "metadata": {},
   "source": [
    "The short answer? I don't know.\n",
    "\n",
    "Just long enough and not any longer, I think. \n",
    "\n",
    "1000 lines is usually too many, and a single line is usually too few. In truth, file length isn't the sort of thing you should optimize. You should instead ask yourself \"In one sentence, what is this file doing?\" If you can't answer that question without a slough of commas and conjuctions, then you're file is too long. See, files - just like functions - should only do one thing."
   ]
  },
  {
   "cell_type": "markdown",
   "metadata": {},
   "source": [
    "### Where Should I Put Things?"
   ]
  },
  {
   "cell_type": "markdown",
   "metadata": {},
   "source": [
    "Ah, now this question is much easier!\n",
    "\n",
    "I am, unsurprisingly, a huge fan of Robert C. Martin's answer...\n",
    "\n",
    ">We would like a source file to be like a newspaper article. The name should be simple\n",
    "but explanatory. The name, by itself, should be sufficient to tell us whether we are in the\n",
    "right  module  or  not.  The  topmost  parts  of  the  source  file  should  provide  the  high-level\n",
    "concepts and algorithms. Detail should increase as we move downward, until at the end\n",
    "we find the lowest level functions and details in the source file. **$^{13}$**\n",
    "\n",
    "This is a fantastic simile: a source file is a like a *newspaper article*.\n",
    "\n",
    "Let's look an example of this done *really* wrong:"
   ]
  },
  {
   "cell_type": "code",
   "execution_count": 107,
   "metadata": {},
   "outputs": [],
   "source": [
    "def add_report_content(empty_report):\n",
    "    content = get_report_content()\n",
    "    full_report = empty_report + content\n",
    "    return full_report\n",
    "\n",
    "def make_unformatted_report():\n",
    "    return \"An unformatted report\"\n",
    "\n",
    "def format_report(unformatted_report):\n",
    "    return unformatted_report.format()\n",
    "\n",
    "def make_report_base():\n",
    "    unformatted_report = make_unformatted_report()\n",
    "    return format_report(unformatted_report)\n",
    "\n",
    "def get_report_content():\n",
    "    return \"Some content.\"\n",
    "\n",
    "def make_report():\n",
    "    report_base = make_report_base()\n",
    "    finished_report = add_report_content(report_base)\n",
    "    return finished_report"
   ]
  },
  {
   "cell_type": "markdown",
   "metadata": {},
   "source": [
    "How obvious is this program's flow? Can you glance through it and tell me how these functions work together? Which functions depend on which other functions?\n",
    "\n",
    "It's not obvious. \n",
    "\n",
    "Sure, you can probably look around and figure out that everything starts with `make_report`, but the file leads you on a merry chase - up and down, and up and down, and... Eh. It's a mess.\n",
    "\n",
    "Compare with this..."
   ]
  },
  {
   "cell_type": "code",
   "execution_count": 106,
   "metadata": {},
   "outputs": [],
   "source": [
    "def make_report():\n",
    "    report_base = make_report_base()\n",
    "    finished_report = add_report_content(report_base)\n",
    "    return finished_report\n",
    "\n",
    "def make_report_base():\n",
    "    unformatted_report = make_unformatted_report()\n",
    "    report_base = format_report(unformatted_report)\n",
    "    return report_base\n",
    "\n",
    "def make_unformatted_report():\n",
    "    return \"An unformatted report\"\n",
    "\n",
    "def format_report(unformatted_report):\n",
    "    return unformatted_report.format()\n",
    "\n",
    "def add_report_content(empty_report):\n",
    "    content = get_report_content()\n",
    "    full_report = empty_report + content\n",
    "    return full_report\n",
    "\n",
    "def get_report_content():\n",
    "    return \"Some content.\""
   ]
  },
  {
   "cell_type": "markdown",
   "metadata": {},
   "source": [
    "Now that's *much* better!\n",
    "\n",
    "What does this file do? It's right at the top: it makes a report with `make_report`.\n",
    "\n",
    "You can follow the logic of `make_report` first through `make_report_base` and then through `add_report_content`. Each of which is located (along with its dependent functions) in order right below `make_report`.\n",
    "\n",
    "It's just like a well structured essay:\n",
    "- Thesis (`make_report`)\n",
    "    - Topic 1 (`make_report_base`)\n",
    "        - Support for Topic 1 (`make_unformatted_report`)\n",
    "        - Support for Topic 1 (`format_report`)\n",
    "    - Topic 2 (`add_report_content`)\n",
    "        - Support for Topic 2 (`get_report_content)"
   ]
  },
  {
   "cell_type": "markdown",
   "metadata": {},
   "source": [
    "### Do Not Line Up Your Assignments"
   ]
  },
  {
   "cell_type": "markdown",
   "metadata": {},
   "source": [
    "Lastly, a minor and perhaps controversial suggestion.\n",
    "\n",
    "Let's say you have a big ol' load of assignment statements..."
   ]
  },
  {
   "cell_type": "code",
   "execution_count": 112,
   "metadata": {},
   "outputs": [],
   "source": [
    "def some_function():\n",
    "    a_second_long_variable = 5\n",
    "    short_var = 1\n",
    "    an_extremely_long_variable_name = 6\n",
    "    longer_variable = 3\n",
    "    also_short = 2\n",
    "    an_even_longer_variable = 4\n",
    "    return \"Boo! Terrible!\""
   ]
  },
  {
   "cell_type": "markdown",
   "metadata": {},
   "source": [
    "So you think to yourself, \n",
    "\n",
    "\"Gee, those staggered assignment statements sure look ugly. Let me fix that up...\""
   ]
  },
  {
   "cell_type": "code",
   "execution_count": null,
   "metadata": {},
   "outputs": [],
   "source": [
    "def some_function():\n",
    "    a_second_long_variable =          5\n",
    "    short_var =                       1\n",
    "    an_extremely_long_variable_name = 6\n",
    "    longer_variable =                 3\n",
    "    also_short =                      2\n",
    "    an_even_longer_variable =         4\n",
    "    return \"Boo! Terrible!\""
   ]
  },
  {
   "cell_type": "markdown",
   "metadata": {},
   "source": [
    "Ah! That's much better!\n",
    "\n",
    "Except... it isn't better at all. It's worse.\n",
    "\n",
    "Firstly, you missed the point. The problem isn't that loads of staggered assignments right in a row look ugly. The problem is that you have loads of staggered assignments. Don't try to hide that issue under a fresh coat of paint; fix it. \n",
    "\n",
    "Secondly, you forgot what assignment statements are really about. You've drawn the eye away from the assignments and towards the giant list of values. But *assignment* is the important thing here, not the giant list of values.\n",
    "\n",
    "And finally, this non-traditional assignment plays tricks on the mind. If I didn't know better, I *might* think for a crazy second that `short_var` is equal to a large amount of whitespace followed by a `1`. \n",
    "\n",
    "Weird."
   ]
  },
  {
   "cell_type": "markdown",
   "metadata": {},
   "source": [
    "## **\"Doth not the object cheer your heart, my lord?\"$^{14}$ Or, Queen Margaret Loves Object-Oriented Programming**"
   ]
  },
  {
   "cell_type": "markdown",
   "metadata": {},
   "source": [
    "Objects are great; object-oriented programming is *fantastic*.\n",
    "\n",
    "And while I don't have the space in this series (let alone this section) to read you the riot act on object-oriented programming, I do have enough space to answer two of the most important questions on classes.\n",
    "\n",
    "First up..."
   ]
  },
  {
   "cell_type": "markdown",
   "metadata": {},
   "source": [
    "### When Should You Use a Class?"
   ]
  },
  {
   "cell_type": "markdown",
   "metadata": {},
   "source": [
    "There are many reasons to use classes!\n",
    "\n",
    "Here's a useful (though wildly incomplete) list:\n",
    "- To protect your data from accidental or incorrect manipulation\n",
    "- To keep data items close to the functions that act on them\n",
    "- To reduce code reuse\n",
    "- To model life in code with greater fidelity\n",
    "- To provide useful abstractions that make complex systems understandable\n",
    "- And more!\n",
    "\n",
    "But at the end of the day, all of these reasons reduce down to one: you have a rag-tag set of variables (and optionally: functions) that would probably work better if you imposed a little structure. \n",
    "\n",
    "So something like this..."
   ]
  },
  {
   "cell_type": "code",
   "execution_count": 115,
   "metadata": {},
   "outputs": [],
   "source": [
    "def do_something(a, b, c):\n",
    "    pass\n",
    "\n",
    "def do_something_else(a, b, c):\n",
    "    pass\n",
    "\n",
    "def do_yet_another_thing(a, b, c):\n",
    "    pass"
   ]
  },
  {
   "cell_type": "markdown",
   "metadata": {},
   "source": [
    "Usually works better like this..."
   ]
  },
  {
   "cell_type": "code",
   "execution_count": 116,
   "metadata": {},
   "outputs": [],
   "source": [
    "class ABC_Thing(object):\n",
    "    \n",
    "    def __init__(self, a, b, c):\n",
    "        self.a = a\n",
    "        self.b = b\n",
    "        self.c = c\n",
    "        \n",
    "    def do_something(self):\n",
    "        pass\n",
    "    \n",
    "    def do_something_else(self):\n",
    "        pass\n",
    "    \n",
    "    def do_yet_another_thing(self):\n",
    "        pass"
   ]
  },
  {
   "cell_type": "markdown",
   "metadata": {},
   "source": [
    "### How Big Should Classes Be?"
   ]
  },
  {
   "cell_type": "markdown",
   "metadata": {},
   "source": [
    "To quote Robert C. Martin one last time,\n",
    "\n",
    ">The first rule of classes is that they should be small. The second rule of classes is that *they\n",
    "should be smaller than that*.**$^{15}$**"
   ]
  },
  {
   "cell_type": "markdown",
   "metadata": {},
   "source": [
    "But, for one last time, just exactly how small *is* small?\n",
    "\n",
    "Unlike functions, it's not productive to measure size in lines. A class might work with 20 (hopefully small) methods, or with two.\n",
    "\n",
    "The only reliable way to corral the size of your classes is to look at how many *responsibilities* that class performs. \n",
    "\n",
    "Because like functions, a class *should only do one thing*.\n",
    "\n",
    "For example..."
   ]
  },
  {
   "cell_type": "code",
   "execution_count": null,
   "metadata": {},
   "outputs": [],
   "source": [
    "class Lamp(object):\n",
    "    \n",
    "    def turn_on(self):\n",
    "        pass\n",
    "    \n",
    "    def turn_off(self):\n",
    "        pass\n",
    "    \n",
    "    def convert_to_AC(self, direct_current):\n",
    "        pass\n",
    "    \n",
    "    def convert_to_DC(self, alternating_current):\n",
    "        pass"
   ]
  },
  {
   "cell_type": "markdown",
   "metadata": {},
   "source": [
    "Now I'm no electrician, but I'd say that a lamp probably shouldn't know anything about converting different currents. That should probably be in a class called... uh... whatever it is you call the thing that converts currents.\n",
    "\n",
    "Whatever that thing is called, the point remains the same: you shoulnd't be afraid to split up an overburdened class into a handful of smaller, cleaner classes."
   ]
  },
  {
   "cell_type": "markdown",
   "metadata": {},
   "source": [
    "## **Final Words, Or What You Will**"
   ]
  },
  {
   "cell_type": "markdown",
   "metadata": {},
   "source": [
    "### I think you are...\"A most notable coward, an infinite and endless liar, an hourly promise breaker, the owner of no one good quality.\""
   ]
  },
  {
   "cell_type": "markdown",
   "metadata": {},
   "source": [
    "## **Thank You! \"[ Exit, pursued by a bear. ]\"$^{16}$**"
   ]
  },
  {
   "cell_type": "markdown",
   "metadata": {},
   "source": [
    "## Works Cited\n",
    "\n",
    "**$^{1}$** Shakespeare, William. *Romeo and Juliet.* II.ii\n",
    "\n",
    "**$^{2}$** Martin, Robert C. *Clean Code.* 18.\n",
    "\n",
    "**$^{3}$** Shakespeare, William. *A Midsummer Night's Dream.* III.ii\n",
    "\n",
    "**$^{4}$** Thanks, Mom!\n",
    "\n",
    "**$^{5}$** Martin, Robert C. *Clean Code.* 34\n",
    "\n",
    "**$^{6}$** Fowler, Martin. https://martinfowler.com/bliki/FunctionLength.html \n",
    "\n",
    "**$^{7}$** Martin, Robert C. *Clean Code.* 35\n",
    "\n",
    "**$^{8}$** Shakespeare, William. *Love's Labor's Lost.* III.i\n",
    "\n",
    "**$^{9}$** Martin, Robert C. *Clean Code.* 40\n",
    "\n",
    "**$^{10}$** Shakespeare, William. *King John* IV.iii\n",
    "\n",
    "**$^{11}$** Martin, Robert C. *Clean Code.* 54\n",
    "\n",
    "**$^{12}$** Shakespeare, William. *The Taming of the Shrew* II.i\n",
    "\n",
    "**$^{13}$** Martin, Robert C. *Clean Code.* 77\n",
    "\n",
    "**$^{14}$** Shakespeare, William. *Henry VI* II.\n",
    "\n",
    "**$^{15}$** Martin, Robert C. *Clean Code.* 136\n",
    "\n",
    "**$^{16}$** Shakespeare, William. *Winter's Tale* III.iii"
   ]
  }
 ],
 "metadata": {
  "kernelspec": {
   "display_name": "Python 3",
   "language": "python",
   "name": "python3"
  },
  "language_info": {
   "codemirror_mode": {
    "name": "ipython",
    "version": 3
   },
   "file_extension": ".py",
   "mimetype": "text/x-python",
   "name": "python",
   "nbconvert_exporter": "python",
   "pygments_lexer": "ipython3",
   "version": "3.6.5"
  }
 },
 "nbformat": 4,
 "nbformat_minor": 2
}
